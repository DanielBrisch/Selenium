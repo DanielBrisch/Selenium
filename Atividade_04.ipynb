import time
from selenium import webdriver

driver = webdriver.Chrome(executable_path=r'/bin/chromedriver')

primeira_aba = driver.current_window_handle

driver.get('https://finance.yahoo.com/quote/AMER3.SA/history?p=AMER3.SA'); 

date = driver.find_element_by_css_selector('#Col1-1-HistoricalDataTable-Proxy > section > div.Pt\(15px\) > div.Bgc\(\$lv1BgColor\).Bdrs\(3px\).P\(10px\) > div:nth-child(1) > div > div > div > span')

date.click()

time.sleep(1)

option = driver.find_element_by_css_selector('#dropdown-menu > div > ul:nth-child(2) > li:nth-child(4) > button > span')

option.click()

time.sleep(1)

aplly = driver.find_element_by_css_selector('#Col1-1-HistoricalDataTable-Proxy > section > div.Pt\(15px\) > div.Bgc\(\$lv1BgColor\).Bdrs\(3px\).P\(10px\) > button > span')

aplly.click()

time.sleep(1)

download = driver.find_element_by_css_selector('#Col1-1-HistoricalDataTable-Proxy > section > div.Pt\(15px\) > div.C\(\$tertiaryColor\).Mt\(20px\).Mb\(15px\) > span.Fl\(end\).Pos\(r\).T\(-6px\) > a > span')

download.click()
