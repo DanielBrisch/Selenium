import time
from selenium import webdriver

driver = webdriver.Chrome(executable_path=r'/bin/chromedriver')

driver.get('http://www.google.com/'); 

time.sleep(1) 

search_box = driver.find_element_by_name('q')

search_box.send_keys('Unimater')

search_box.submit()

time.sleep(1)

pesquisa = driver.find_element_by_css_selector('#rso > div:nth-child(1) > div > div > div > div > div > div > div > div.yuRUbf > a > h3')

pesquisa.click()

time.sleep(2)

sistema = driver.find_element_by_css_selector("#js-course-wrapper > a:nth-child(8)")

sistema.click()

time.sleep(1)

# iframe = driver.find_element_by_css_selector("#palavradocoordenador > p.palavra-coordenador-wrapper > iframe")

# driver.switch_to.frame(iframe)

# video = driver.find_element_by_css_selector('#movie_player > div.ytp-chrome-top.ytp-show-cards-title > div.ytp-title > div > a')

# video.click()
