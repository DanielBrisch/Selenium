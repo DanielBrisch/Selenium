import time
from selenium import webdriver

driver = webdriver.Chrome(executable_path=r'/bin/chromedriver')

primeira_aba = driver.current_window_handle

driver.get('http://www.google.com/'); 

search_box = driver.find_element_by_name('q')

search_box.send_keys('Unimater')

search_box.submit()

time.sleep(1)

pesquisa = driver.find_element_by_css_selector('#rso > div:nth-child(1) > div > div > div > div > div > div > div > div.yuRUbf > a > h3')

pesquisa.click()

aluno = driver.find_element_by_css_selector("#form > div.website-content > header > div.links-menu.links-menu-transparent > div > nav.restrict-menu > a:nth-child(2)")

aluno.click() 

time.sleep(1) 

segunda_aba = None

for aba_atual in driver.window_handles:
    if aba_atual != primeira_aba:
        segunda_aba = aba_atual
        driver.switch_to.window(aba_atual)
        break

login = driver.find_element_by_name('login.login')

login.send_keys("1234567")

time.sleep(1) 

senha = driver.find_element_by_name('login.password')

senha.send_keys("Senha$$178")

time.sleep(1) 

botao = driver.find_element_by_css_selector("#btn-login")

botao.click()


